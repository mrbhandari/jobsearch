{
 "cells": [
  {
   "cell_type": "code",
   "execution_count": 1,
   "metadata": {
    "collapsed": true
   },
   "outputs": [],
   "source": [
    "from collections import Counter"
   ]
  },
  {
   "cell_type": "code",
   "execution_count": 2,
   "metadata": {
    "collapsed": true
   },
   "outputs": [],
   "source": [
    "data = Counter({'management': 3, 'independence': 2, 'software': 2, 'sound': 1, 'training': 1, 'positioning': 1, 'credit unions': 1, 'banking software': 1, 'closings': 1, 'mobile technology': 1, 'successions': 1, 'access': 1, 'banking': 1, 'communication': 1, 'reach': 1})"
   ]
  },
  {
   "cell_type": "code",
   "execution_count": 3,
   "metadata": {
    "collapsed": false
   },
   "outputs": [
    {
     "data": {
      "text/plain": [
       "Counter({'access': 1,\n",
       "         'banking': 1,\n",
       "         'banking software': 1,\n",
       "         'closings': 1,\n",
       "         'communication': 1,\n",
       "         'credit unions': 1,\n",
       "         'independence': 2,\n",
       "         'management': 3,\n",
       "         'mobile technology': 1,\n",
       "         'positioning': 1,\n",
       "         'reach': 1,\n",
       "         'software': 2,\n",
       "         'sound': 1,\n",
       "         'successions': 1,\n",
       "         'training': 1})"
      ]
     },
     "execution_count": 3,
     "metadata": {},
     "output_type": "execute_result"
    }
   ],
   "source": [
    "data"
   ]
  },
  {
   "cell_type": "code",
   "execution_count": 69,
   "metadata": {
    "collapsed": false
   },
   "outputs": [],
   "source": [
    "import urllib\n",
    "def create_linkedin_skills_url(skill):\n",
    "    encodelist = []\n",
    "    for x in skill.strip().split(\" \"):\n",
    "        encodelist.append(urllib.quote_plus(x))\n",
    "    slug = '-'.join(encodelist)\n",
    "    url = 'https://www.linkedin.com/topic/' + slug\n",
    "    return url"
   ]
  },
  {
   "cell_type": "code",
   "execution_count": 70,
   "metadata": {
    "collapsed": false
   },
   "outputs": [
    {
     "name": "stdout",
     "output_type": "stream",
     "text": [
      "{'one_term': [{'website': 'https://www.linkedin.com/topic/management', 'frequency': 3, 'terms': 1, 'name': 'management'}, {'website': 'https://www.linkedin.com/topic/independence', 'frequency': 2, 'terms': 1, 'name': 'independence'}, {'website': 'https://www.linkedin.com/topic/software', 'frequency': 2, 'terms': 1, 'name': 'software'}, {'website': 'https://www.linkedin.com/topic/sound', 'frequency': 1, 'terms': 1, 'name': 'sound'}, {'website': 'https://www.linkedin.com/topic/access', 'frequency': 1, 'terms': 1, 'name': 'access'}, {'website': 'https://www.linkedin.com/topic/training', 'frequency': 1, 'terms': 1, 'name': 'training'}, {'website': 'https://www.linkedin.com/topic/positioning', 'frequency': 1, 'terms': 1, 'name': 'positioning'}, {'website': 'https://www.linkedin.com/topic/communication', 'frequency': 1, 'terms': 1, 'name': 'communication'}, {'website': 'https://www.linkedin.com/topic/closings', 'frequency': 1, 'terms': 1, 'name': 'closings'}, {'website': 'https://www.linkedin.com/topic/successions', 'frequency': 1, 'terms': 1, 'name': 'successions'}, {'website': 'https://www.linkedin.com/topic/banking', 'frequency': 1, 'terms': 1, 'name': 'banking'}, {'website': 'https://www.linkedin.com/topic/reach', 'frequency': 1, 'terms': 1, 'name': 'reach'}], 'two_term': [{'website': 'https://www.linkedin.com/topic/credit-unions', 'frequency': 1, 'terms': 2, 'name': 'credit unions'}, {'website': 'https://www.linkedin.com/topic/mobile-technology', 'frequency': 1, 'terms': 2, 'name': 'mobile technology'}, {'website': 'https://www.linkedin.com/topic/banking-software', 'frequency': 1, 'terms': 2, 'name': 'banking software'}]}\n"
     ]
    }
   ],
   "source": [
    "\n",
    "\n",
    "def rank_skills(data):\n",
    "    #takes a skills counter and sorts it with two terms or greater at top, rest below sub sorted by frequency\n",
    "    output_list_end = list()\n",
    "    output_list_beg = list()\n",
    "\n",
    "    for key in data:\n",
    "        terms = len(key.split())\n",
    "        if terms < 2:\n",
    "            output_list_end.append({'name': key, 'terms': terms, 'frequency': int(data[key]), 'website': create_linkedin_skills_url(key)})\n",
    "    output_list_end = sorted(output_list_end, key=lambda output_list_end: output_list_end['frequency'], reverse=True)\n",
    "\n",
    "    for key in data:\n",
    "        terms = len(key.split())\n",
    "        if terms >= 2:\n",
    "            output_list_beg.append({'name': key, 'terms': terms, 'frequency': int(data[key]), 'website': create_linkedin_skills_url(key)})\n",
    "    output_list_beg = sorted(output_list_beg, key=lambda output_list_beg: output_list_beg['frequency'], reverse=True)\n",
    "\n",
    "    return {'two_term': output_list_beg, 'one_term': output_list_end}\n",
    "print rank_skills(data)"
   ]
  },
  {
   "cell_type": "code",
   "execution_count": 58,
   "metadata": {
    "collapsed": false
   },
   "outputs": [
    {
     "name": "stdout",
     "output_type": "stream",
     "text": [
      "{'one_term': [{'frequency': 3, 'terms': 1, 'name': 'management'}, {'frequency': 2, 'terms': 1, 'name': 'independence'}, {'frequency': 2, 'terms': 1, 'name': 'software'}, {'frequency': 1, 'terms': 1, 'name': 'sound'}, {'frequency': 1, 'terms': 1, 'name': 'access'}, {'frequency': 1, 'terms': 1, 'name': 'training'}, {'frequency': 1, 'terms': 1, 'name': 'positioning'}, {'frequency': 1, 'terms': 1, 'name': 'communication'}, {'frequency': 1, 'terms': 1, 'name': 'closings'}, {'frequency': 1, 'terms': 1, 'name': 'successions'}, {'frequency': 1, 'terms': 1, 'name': 'banking'}, {'frequency': 1, 'terms': 1, 'name': 'reach'}], 'two_term': [{'frequency': 1, 'terms': 2, 'name': 'credit unions'}, {'frequency': 1, 'terms': 2, 'name': 'mobile technology'}, {'frequency': 1, 'terms': 2, 'name': 'banking software'}]}\n"
     ]
    }
   ],
   "source": [
    "ranked_data = rank_skills(data)\n",
    "print ranked_data\n"
   ]
  },
  {
   "cell_type": "code",
   "execution_count": 22,
   "metadata": {
    "collapsed": false
   },
   "outputs": [
    {
     "ename": "ImportError",
     "evalue": "No module named hackathon_starter.hackathon_starter.settings",
     "output_type": "error",
     "traceback": [
      "\u001b[0;31m---------------------------------------------------------------------------\u001b[0m",
      "\u001b[0;31mImportError\u001b[0m                               Traceback (most recent call last)",
      "\u001b[0;32m<ipython-input-22-753d458af6b3>\u001b[0m in \u001b[0;36m<module>\u001b[0;34m()\u001b[0m\n\u001b[1;32m      2\u001b[0m \u001b[0;32mimport\u001b[0m \u001b[0murllib2\u001b[0m\u001b[0;34m\u001b[0m\u001b[0m\n\u001b[1;32m      3\u001b[0m \u001b[0;32mfrom\u001b[0m \u001b[0mdjango\u001b[0m\u001b[0;34m.\u001b[0m\u001b[0mtemplate\u001b[0m \u001b[0;32mimport\u001b[0m \u001b[0mTemplate\u001b[0m\u001b[0;34m\u001b[0m\u001b[0m\n\u001b[0;32m----> 4\u001b[0;31m \u001b[0;32mimport\u001b[0m \u001b[0mhackathon_starter\u001b[0m\u001b[0;34m.\u001b[0m\u001b[0mhackathon_starter\u001b[0m\u001b[0;34m.\u001b[0m\u001b[0msettings\u001b[0m\u001b[0;34m\u001b[0m\u001b[0m\n\u001b[0m\u001b[1;32m      5\u001b[0m \u001b[0;34m\u001b[0m\u001b[0m\n\u001b[1;32m      6\u001b[0m \u001b[0msettings\u001b[0m\u001b[0;34m.\u001b[0m\u001b[0mconfigure\u001b[0m\u001b[0;34m(\u001b[0m\u001b[0;34m)\u001b[0m\u001b[0;34m\u001b[0m\u001b[0m\n",
      "\u001b[0;31mImportError\u001b[0m: No module named hackathon_starter.hackathon_starter.settings"
     ]
    }
   ],
   "source": [
    "import json\n",
    "import urllib2\n",
    "from django.template import Template\n",
    "\n",
    "settings.configure()\n",
    "\n",
    "skill = 'product%20management'\n",
    "request_url = 'https://redhoop.com/amazon/' + skill\n",
    "\n",
    "try:\n",
    "    data = json.load(urllib2.urlopen(request_url))\n",
    "    print data[0]['name']\n",
    "    print data[0]['author']\n",
    "    print data[0]['url']\n",
    "    print data[0]['price']\n",
    "    print data[0]['image']\n",
    "    \n",
    "    template = Template(\"My name is {{ my_name }}.\")\n",
    "    context = Context({\"my_name\": \"Adrian\"})\n",
    "    print template.render(context)\n",
    "    \n",
    "except URLError, e:\n",
    "    print 'Failed. Got an error code:', e"
   ]
  },
  {
   "cell_type": "code",
   "execution_count": null,
   "metadata": {
    "collapsed": true
   },
   "outputs": [],
   "source": []
  }
 ],
 "metadata": {
  "kernelspec": {
   "display_name": "Python 2",
   "language": "python",
   "name": "python2"
  },
  "language_info": {
   "codemirror_mode": {
    "name": "ipython",
    "version": 2
   },
   "file_extension": ".py",
   "mimetype": "text/x-python",
   "name": "python",
   "nbconvert_exporter": "python",
   "pygments_lexer": "ipython2",
   "version": "2.7.6"
  }
 },
 "nbformat": 4,
 "nbformat_minor": 0
}
