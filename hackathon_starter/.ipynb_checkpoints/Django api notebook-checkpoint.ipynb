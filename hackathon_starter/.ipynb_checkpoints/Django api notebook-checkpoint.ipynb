{
 "cells": [
  {
   "cell_type": "code",
   "execution_count": 5,
   "metadata": {
    "collapsed": false
   },
   "outputs": [
    {
     "name": "stdout",
     "output_type": "stream",
     "text": [
      "The Product Manager's Survival Guide: Everything You Need to Know to Succeed as a Product Manager\n",
      "Steven Haines\n",
      "http://www.amazon.com/The-Product-Managers-Survival-Guide/dp/007180546X%3FSubscriptionId%3DAKIAJWVNFRPWFFRAWFZA%26tag%3Drandguav-20%26linkCode%3Dxm2%26camp%3D2025%26creative%3D165953%26creativeASIN%3D007180546X\n",
      "$13.10\n",
      "http://ecx.images-amazon.com/images/I/517rPD4L%2BYL.jpg\n",
      "<div class=\"panel panel-primary\">\n",
      "    <div class=\"panel-heading\">\n",
      "        <h3 class=\"panel-title\">\n",
      "            Product Management Required Reading\n",
      "        </h3>\n",
      "    </div>\n",
      "    <div class=\"panel-body\" id=\"reading_skills\">\n",
      "        \n",
      "        <a target=\"blank\" href=\"http://www.amazon.com/The-Product-Managers-Survival-Guide/dp/007180546X%3FSubscriptionId%3DAKIAJWVNFRPWFFRAWFZA%26tag%3Drandguav-20%26linkCode%3Dxm2%26camp%3D2025%26creative%3D165953%26creativeASIN%3D007180546X\"><img class=\"img-thumbnail\" alt=\"\" class=\"bookImage\" src=\"http://ecx.images-amazon.com/images/I/517rPD4L%2BYL.jpg\"\" title=\"\" width=\"127\"></a>\n",
      "        <!--</div>-->\n",
      "        \n",
      "        <a target=\"blank\" href=\"http://www.amazon.com/Agile-Product-Management-Scrum-Addison-Wesley/dp/0321605780%3FSubscriptionId%3DAKIAJWVNFRPWFFRAWFZA%26tag%3Drandguav-20%26linkCode%3Dxm2%26camp%3D2025%26creative%3D165953%26creativeASIN%3D0321605780\"><img class=\"img-thumbnail\" alt=\"\" class=\"bookImage\" src=\"http://ecx.images-amazon.com/images/I/51IG8pfF7RL.jpg\"\" title=\"\" width=\"127\"></a>\n",
      "        <!--</div>-->\n",
      "        \n",
      "        <a target=\"blank\" href=\"http://www.amazon.com/New-Products-Management-Merle-Crawford/dp/007802904X%3FSubscriptionId%3DAKIAJWVNFRPWFFRAWFZA%26tag%3Drandguav-20%26linkCode%3Dxm2%26camp%3D2025%26creative%3D165953%26creativeASIN%3D007802904X\"><img class=\"img-thumbnail\" alt=\"\" class=\"bookImage\" src=\"http://ecx.images-amazon.com/images/I/41CvHDPsmjL.jpg\"\" title=\"\" width=\"127\"></a>\n",
      "        <!--</div>-->\n",
      "        \n",
      "        <a target=\"blank\" href=\"http://www.amazon.com/Decode-Conquer-Answers-Management-Interviews/dp/0615930417%3FSubscriptionId%3DAKIAJWVNFRPWFFRAWFZA%26tag%3Drandguav-20%26linkCode%3Dxm2%26camp%3D2025%26creative%3D165953%26creativeASIN%3D0615930417\"><img class=\"img-thumbnail\" alt=\"\" class=\"bookImage\" src=\"http://ecx.images-amazon.com/images/I/415MEAb9KdL.jpg\"\" title=\"\" width=\"127\"></a>\n",
      "        <!--</div>-->\n",
      "        \n",
      "        <a target=\"blank\" href=\"http://www.amazon.com/New-Products-Management-Merle-Crawford/dp/0073404802%3FSubscriptionId%3DAKIAJWVNFRPWFFRAWFZA%26tag%3Drandguav-20%26linkCode%3Dxm2%26camp%3D2025%26creative%3D165953%26creativeASIN%3D0073404802\"><img class=\"img-thumbnail\" alt=\"\" class=\"bookImage\" src=\"http://ecx.images-amazon.com/images/I/51b4gN4Y-YL.jpg\"\" title=\"\" width=\"127\"></a>\n",
      "        <!--</div>-->\n",
      "        \n",
      "        \n",
      "        \n",
      "        \n",
      "    </div>\n",
      "</div>\n"
     ]
    }
   ],
   "source": [
    "import json\n",
    "import urllib2\n",
    "from django.template import Template, Context, loader\n",
    "\n",
    "from urllib2 import URLError\n",
    "\n",
    "skill = 'product%20management'\n",
    "skill_unquote =  urllib2.unquote(skill)\n",
    "request_url = 'https://redhoop.com/amazon/' + skill\n",
    "\n",
    "try:\n",
    "    data = json.load(urllib2.urlopen(request_url))\n",
    "    print data[0]['name']\n",
    "    print data[0]['author']\n",
    "    print data[0]['url']\n",
    "    print data[0]['price']\n",
    "    print data[0]['image']\n",
    "    \n",
    "    t = loader.get_template('api/amazon_reading_api.html')\n",
    "    \n",
    "    context = Context({\"response\": data, \"skill\": skill_unquote})\n",
    "    print t.render(context)\n",
    "    \n",
    "except URLError, e:\n",
    "\n",
    "    print 'Failed. Got an error code:', e"
   ]
  },
  {
   "cell_type": "code",
   "execution_count": 39,
   "metadata": {
    "collapsed": false
   },
   "outputs": [],
   "source": [
    "## See if monster can help\n",
    "import urllib2\n",
    "import urllib\n",
    "from bs4 import BeautifulSoup\n",
    "url_base = \"http://jobs.monster.com/search/?q=\""
   ]
  },
  {
   "cell_type": "code",
   "execution_count": 86,
   "metadata": {
    "collapsed": false
   },
   "outputs": [
    {
     "name": "stdout",
     "output_type": "stream",
     "text": [
      "Product\n",
      "Product-Engagement\n",
      "Product-Engagement-Manager\n",
      "http://jobs.monster.com/search/?q=Product-Engagement-Manager\n"
     ]
    }
   ],
   "source": [
    "i = \"Product Engagement Manager\"\n",
    "encodelist = []\n",
    "slug = ''\n",
    "for x in i.translate(None, string.punctuation).strip().strip(\",\").split(\" \"):\n",
    "    encodelist.append(urllib.quote_plus(x))\n",
    "    slug = '-'.join(encodelist)\n",
    "    print slug\n",
    "\n",
    "url = url_base + slug\n",
    "print url"
   ]
  },
  {
   "cell_type": "code",
   "execution_count": 87,
   "metadata": {
    "collapsed": true
   },
   "outputs": [],
   "source": [
    "import hashlib\n",
    "import time\n",
    "def get_url_data(url):\n",
    "    opener = urllib2.build_opener()\n",
    "    opener.addheaders = [('User-agent', 'Googlebot'), ('Cookie', 'bcookie=\"v=2&a4dbb96f-4c7b-4d2a-88b2-32cc9abdf6d4\"')]\n",
    "    f = opener.open(url)\n",
    "    data = f.read()\n",
    "    return data\n",
    "\n",
    "def get_url_data_with_retries(url, n):\n",
    "    url_data = None\n",
    "    for i in range(0,n):\n",
    "        try:\n",
    "            url_data = get_url_data(url)\n",
    "        except urllib2.HTTPError as e:\n",
    "            print \"sleeping for 30 seconds because of httperror\",e\n",
    "            time.sleep(30)\n",
    "        except Exception as e:\n",
    "            return None\n",
    "        if url_data is not None:\n",
    "            return url_data\n",
    "    return None"
   ]
  },
  {
   "cell_type": "code",
   "execution_count": 88,
   "metadata": {
    "collapsed": false
   },
   "outputs": [],
   "source": [
    "output = get_url_data_with_retries(url, 3)"
   ]
  },
  {
   "cell_type": "code",
   "execution_count": 89,
   "metadata": {
    "collapsed": false
   },
   "outputs": [],
   "source": [
    "soup = BeautifulSoup(output)"
   ]
  },
  {
   "cell_type": "code",
   "execution_count": 90,
   "metadata": {
    "collapsed": false
   },
   "outputs": [
    {
     "name": "stdout",
     "output_type": "stream",
     "text": [
      "[u'Strategic Planning', u'Business Strategy', u'Risk', u'Risk Management', u'Financial Services', u'Talent Management', u'Business Skills', u'Exceeded Sales Goal', u'Loss Prevention', u'Consumer Branding']\n"
     ]
    }
   ],
   "source": [
    "ss = soup.find(\"li\", {\"id\": \"backlinkingwidgetSkill\"}).find_all(\"li\")\n",
    "m_related_skills = []\n",
    "for i in ss:\n",
    "    m_related_skills.append(i.find(\"a\").get_text())\n",
    "    \n",
    "m_related_skills.remove(\"Show More\")\n",
    "m_related_skills.remove(\"show less\")\n",
    "print m_related_skills"
   ]
  },
  {
   "cell_type": "code",
   "execution_count": 96,
   "metadata": {
    "collapsed": false
   },
   "outputs": [
    {
     "name": "stdout",
     "output_type": "stream",
     "text": [
      "[u'Product', u'Marketing', u'Manager,', u'Commerce']\n",
      "[u'Product Marketing Manager Commerce']\n"
     ]
    }
   ],
   "source": [
    "job_title = u'Product Marketing Manager, Commerce'\n",
    "remove_punctuation_map = dict((ord(char), None) for char in string.punctuation)\n",
    "print job_title.strip().split(\" \")\n",
    "word_list = job_title.translate(remove_punctuation_map)\n",
    "print word_list"
   ]
  },
  {
   "cell_type": "code",
   "execution_count": 97,
   "metadata": {
    "collapsed": true
   },
   "outputs": [],
   "source": [
    "from glassdoor import get"
   ]
  },
  {
   "cell_type": "code",
   "execution_count": 100,
   "metadata": {
    "collapsed": true
   },
   "outputs": [],
   "source": [
    "x = get('Dropbox')"
   ]
  },
  {
   "cell_type": "code",
   "execution_count": 101,
   "metadata": {
    "collapsed": false
   },
   "outputs": [
    {
     "name": "stdout",
     "output_type": "stream",
     "text": [
      "{'satisfaction': {'ratings': 0, 'score': None}, 'ceo': {'reviews': 0, '%approval': None, 'name': '', 'avatar': ''}, 'meta': {'website': '', 'reviews': None, 'name': '', 'connections': 0, 'score': None, 'location': '', 'logo': None, 'size': [None, None]}, 'salary': []}\n"
     ]
    }
   ],
   "source": [
    "print x\n"
   ]
  },
  {
   "cell_type": "code",
   "execution_count": 103,
   "metadata": {
    "collapsed": true
   },
   "outputs": [],
   "source": [
    "cover_letter_text = \"\"\"        \n",
    "Dear [name],\n",
    "\n",
    "With the utmost enthusiasm, I would like to express my interest in the [position title] position at [company]. My interest in [field] has taken me from [experience] to [experience]. I believe that my passion for [aspect of your field or background], strong commitment to [aspect of your field or background], and interest in [aspect of your field or background] make me an ideal candidate to join the [department] staff at [company].\n",
    "\n",
    "As a candidate, here’s what I could immediately bring to the table:\n",
    "\n",
    "An effective [descriptor that reflects transferable skill #1]: In my role at [previous job], I [action or accomplishment]. I was also able to showcase my [skill] abilities as a [role] in [project name] project by [what you did].\n",
    "\n",
    "A disciplined [descriptor that reflects transferable skill #2]: I have always displayed my careful approach to [job duty] by [action]. At [previous company], I frequently [action]. In addition, I had the opportunity to [action or accomplishment], which further shows my dedication to [aspect of your field].\n",
    "\n",
    "A passionate [descriptor that reflects transferable skill #3]: Everything I have engaged in so far has all been driven by my keen interest in [aspect of your field]. Even as a [previous role], I made sure to dedicate some part of my day to [action]. It is this passion that has driven every one of my career decisions thus far.\n",
    "\n",
    "I look forward to contributing my skills and experiences to the [position title] position at [company] and hope to have the opportunity to speak with you further about how I can be an asset to your team.\n",
    "\n",
    "Sincerely,\n",
    "\n",
    "[Your name]\"\"\""
   ]
  },
  {
   "cell_type": "code",
   "execution_count": 104,
   "metadata": {
    "collapsed": false
   },
   "outputs": [
    {
     "data": {
      "text/plain": [
       "'        \\nDear [name],\\n\\nWith the utmost enthusiasm, I would like to express my interest in the [position title] position at [company]. My interest in [field] has taken me from [experience] to [experience]. I believe that my passion for [aspect of your field or background], strong commitment to [aspect of your field or background], and interest in [aspect of your field or background] make me an ideal candidate to join the [department] staff at [company].\\n\\nAs a candidate, here\\xe2\\x80\\x99s what I could immediately bring to the table:\\n\\nAn effective [descriptor that reflects transferable skill #1]: In my role at [previous job], I [action or accomplishment]. I was also able to showcase my [skill] abilities as a [role] in [project name] project by [what you did].\\n\\nA disciplined [descriptor that reflects transferable skill #2]: I have always displayed my careful approach to [job duty] by [action]. At [previous company], I frequently [action]. In addition, I had the opportunity to [action or accomplishment], which further shows my dedication to [aspect of your field].\\n\\nA passionate [descriptor that reflects transferable skill #3]: Everything I have engaged in so far has all been driven by my keen interest in [aspect of your field]. Even as a [previous role], I made sure to dedicate some part of my day to [action]. It is this passion that has driven every one of my career decisions thus far.\\n\\nI look forward to contributing my skills and experiences to the [position title] position at [company] and hope to have the opportunity to speak with you further about how I can be an asset to your team.\\n\\nSincerely,\\n\\n[Your name]'"
      ]
     },
     "execution_count": 104,
     "metadata": {},
     "output_type": "execute_result"
    }
   ],
   "source": [
    "cover_letter_text"
   ]
  },
  {
   "cell_type": "code",
   "execution_count": 105,
   "metadata": {
    "collapsed": true
   },
   "outputs": [],
   "source": [
    "json_text = \"\"\"{\"job_title\":\"Product%20Manager%20-%20Mobile\",\"skills\":[\"Team Lead/Manager\",\"Product Management\",\"Mobile Devices\",\"Project/Program Management\",\"Marketing\",\"Cross-Functional\",\"Mobile Applications\",\"Product Development\",\"Requirements Management\",\"Coaching\"]}\"\"\"\n"
   ]
  },
  {
   "cell_type": "code",
   "execution_count": 114,
   "metadata": {
    "collapsed": false
   },
   "outputs": [
    {
     "ename": "AttributeError",
     "evalue": "'list' object has no attribute 'split'",
     "output_type": "error",
     "traceback": [
      "\u001b[0;31m---------------------------------------------------------------------------\u001b[0m",
      "\u001b[0;31mAttributeError\u001b[0m                            Traceback (most recent call last)",
      "\u001b[0;32m<ipython-input-114-31f53c072e27>\u001b[0m in \u001b[0;36m<module>\u001b[0;34m()\u001b[0m\n\u001b[1;32m      1\u001b[0m \u001b[0murllib2\u001b[0m\u001b[0;34m.\u001b[0m\u001b[0munquote\u001b[0m\u001b[0;34m(\u001b[0m\u001b[0mjson\u001b[0m\u001b[0;34m.\u001b[0m\u001b[0mloads\u001b[0m\u001b[0;34m(\u001b[0m\u001b[0mjson_text\u001b[0m\u001b[0;34m)\u001b[0m\u001b[0;34m[\u001b[0m\u001b[0;34m'job_title'\u001b[0m\u001b[0;34m]\u001b[0m\u001b[0;34m)\u001b[0m\u001b[0;34m\u001b[0m\u001b[0m\n\u001b[0;32m----> 2\u001b[0;31m \u001b[0murllib2\u001b[0m\u001b[0;34m.\u001b[0m\u001b[0munquote\u001b[0m\u001b[0;34m(\u001b[0m\u001b[0mjson\u001b[0m\u001b[0;34m.\u001b[0m\u001b[0mloads\u001b[0m\u001b[0;34m(\u001b[0m\u001b[0mjson_text\u001b[0m\u001b[0;34m)\u001b[0m\u001b[0;34m[\u001b[0m\u001b[0;34m'skills'\u001b[0m\u001b[0;34m]\u001b[0m\u001b[0;34m)\u001b[0m\u001b[0;34m\u001b[0m\u001b[0m\n\u001b[0m",
      "\u001b[0;32m/System/Library/Frameworks/Python.framework/Versions/2.7/lib/python2.7/urllib.pyc\u001b[0m in \u001b[0;36munquote\u001b[0;34m(s)\u001b[0m\n\u001b[1;32m   1218\u001b[0m         \u001b[0;32mreturn\u001b[0m \u001b[0;34m''\u001b[0m\u001b[0;34m.\u001b[0m\u001b[0mjoin\u001b[0m\u001b[0;34m(\u001b[0m\u001b[0mres\u001b[0m\u001b[0;34m)\u001b[0m\u001b[0;34m\u001b[0m\u001b[0m\n\u001b[1;32m   1219\u001b[0m \u001b[0;34m\u001b[0m\u001b[0m\n\u001b[0;32m-> 1220\u001b[0;31m     \u001b[0mbits\u001b[0m \u001b[0;34m=\u001b[0m \u001b[0ms\u001b[0m\u001b[0;34m.\u001b[0m\u001b[0msplit\u001b[0m\u001b[0;34m(\u001b[0m\u001b[0;34m'%'\u001b[0m\u001b[0;34m)\u001b[0m\u001b[0;34m\u001b[0m\u001b[0m\n\u001b[0m\u001b[1;32m   1221\u001b[0m     \u001b[0;31m# fastpath\u001b[0m\u001b[0;34m\u001b[0m\u001b[0;34m\u001b[0m\u001b[0m\n\u001b[1;32m   1222\u001b[0m     \u001b[0;32mif\u001b[0m \u001b[0mlen\u001b[0m\u001b[0;34m(\u001b[0m\u001b[0mbits\u001b[0m\u001b[0;34m)\u001b[0m \u001b[0;34m==\u001b[0m \u001b[0;36m1\u001b[0m\u001b[0;34m:\u001b[0m\u001b[0;34m\u001b[0m\u001b[0m\n",
      "\u001b[0;31mAttributeError\u001b[0m: 'list' object has no attribute 'split'"
     ]
    }
   ],
   "source": [
    "urllib2.unquote(json.loads(json_text)['job_title'])"
   ]
  },
  {
   "cell_type": "code",
   "execution_count": 117,
   "metadata": {
    "collapsed": false
   },
   "outputs": [
    {
     "data": {
      "text/plain": [
       "u'Team Lead/Manager'"
      ]
     },
     "execution_count": 117,
     "metadata": {},
     "output_type": "execute_result"
    }
   ],
   "source": [
    "json.loads(json_text)['skills'][0]"
   ]
  },
  {
   "cell_type": "code",
   "execution_count": 221,
   "metadata": {
    "collapsed": false
   },
   "outputs": [],
   "source": [
    "mypath = \"/Users/PEM-Mac/br/jobsearch/hackathon_starter/hackathon/static/data/Download/\"\n",
    "import glob\n",
    "list_of_files = glob.glob(mypath+ \"*.html\")"
   ]
  },
  {
   "cell_type": "code",
   "execution_count": 233,
   "metadata": {
    "collapsed": false,
    "scrolled": true
   },
   "outputs": [],
   "source": [
    "#i_path_join = os.path.join(os.path.abspath(os.path.dirname(__file__)), \"..\", \"static\", \"data\", i)\n",
    "filepath = '/Users/PEM-Mac/br/jobsearch/hackathon_starter/hackathon/static/data/Download/044f631e1864388ef06fc819364e86a9.html'\n",
    "\n",
    "def parse_skills(filepath):\n",
    "    print filepath\n",
    "    skill_list = []\n",
    "    skill_count = []\n",
    "\n",
    "\n",
    "    with open(filepath, 'r') as f:\n",
    "        soup = BeautifulSoup(f.read())\n",
    "    try:\n",
    "        ss = soup.find(\"h1\").get_text()\n",
    "        input_skill = ss\n",
    "        print input_skill\n",
    "\n",
    "        try:\n",
    "            ss = soup.find(\"ul\", {\"class\": \"buckets-container\"}).find_all(\"p\", {\"class\": \"title bucket-label\"})\n",
    "            for i in ss:\n",
    "                skill_list.append(i.get_text())\n",
    "\n",
    "            ss = soup.find(\"ul\", {\"class\": \"buckets-container\"}).find_all(\"p\", {\"class\": \"subtitle bucket-label\"})\n",
    "            for i in ss:\n",
    "                skill_count.append(i.get_text().strip().replace(',', ''))\n",
    "        except AttributeError:\n",
    "            print \"Type 2\"\n",
    "            try:\n",
    "                ss = soup.find(\"div\", {\"class\": \"set\"}).find_all(\"label\", {\"class\": \"stat-label\"})\n",
    "                for i in ss:\n",
    "                    #print i.get_text()\n",
    "                    skill = re.findall(r'^.+\\(', i.get_text())[0].replace('(' , '').strip()\n",
    "                    #print skill\n",
    "                    skill_list.append(skill)\n",
    "\n",
    "                    #print i.get_text()\n",
    "                    count = re.findall(r'\\([0-9,]+', i.get_text())[0].replace('(', '').replace(',', '').strip()\n",
    "                    #print count\n",
    "                    skill_count.append(count)\n",
    "            except AttributeError:\n",
    "                print \"not found\"\n",
    "                print filepath\n",
    "    except:\n",
    "        print \"Empty file did not find h1\"\n",
    "\n",
    "        #ss = soup.find(\"ul\", {\"class\": \"buckets-container\"}).find_all(\"p\", {\"class\": \"subtitle bucket-label\"})\n",
    "        #for i in ss:\n",
    "        #    skill_count.append(i.get_text().strip().replace(',', ''))\n",
    "\n",
    "\n",
    "    output_text =''\n",
    "\n",
    "    if len(skill_list) == len(skill_count):\n",
    "        for i in range(0,len(skill_list)):\n",
    "            output_text += ('\\t').join([input_skill, skill_list[i], skill_count[i]])+ '\\n'\n",
    "\n",
    "    return output_text\n",
    "\n",
    "    \n"
   ]
  },
  {
   "cell_type": "code",
   "execution_count": 235,
   "metadata": {
    "collapsed": false
   },
   "outputs": [
    {
     "name": "stdout",
     "output_type": "stream",
     "text": [
      "/Users/PEM-Mac/br/jobsearch/hackathon_starter/hackathon/static/data/Download/0005bda5176e4521ff137d2e7f4e1f45.html\n",
      "Commercial Insurance\n",
      "Type 2\n",
      "/Users/PEM-Mac/br/jobsearch/hackathon_starter/hackathon/static/data/Download/0008dbf51fa218d2e5f6fa666cbc4eb7.html\n",
      "Blue Cherry\n",
      "Type 2\n",
      "/Users/PEM-Mac/br/jobsearch/hackathon_starter/hackathon/static/data/Download/000c5518c16298c5c23406dab1030aa0.html\n",
      "Grades 7 12\n",
      "Type 2\n",
      "not found\n",
      "/Users/PEM-Mac/br/jobsearch/hackathon_starter/hackathon/static/data/Download/000c5518c16298c5c23406dab1030aa0.html\n",
      "/Users/PEM-Mac/br/jobsearch/hackathon_starter/hackathon/static/data/Download/000ee6aa14525d724aadfce850c1ebee.html\n",
      "Creative Strategy\n",
      "Type 2\n",
      "/Users/PEM-Mac/br/jobsearch/hackathon_starter/hackathon/static/data/Download/00149be387c10ded41289b2f5d544b46.html\n",
      "Communication Theory\n",
      "Type 2\n",
      "/Users/PEM-Mac/br/jobsearch/hackathon_starter/hackathon/static/data/Download/00165ed8efbbc7ef5ae85ff9cbcb050c.html\n",
      "Capability Management\n",
      "Type 2\n",
      "/Users/PEM-Mac/br/jobsearch/hackathon_starter/hackathon/static/data/Download/0016805027effdd5f9426d636e7a27d1.html\n",
      "Dl1\n",
      "Type 2\n",
      "/Users/PEM-Mac/br/jobsearch/hackathon_starter/hackathon/static/data/Download/0023f8047d77264ef5d7c2779aec3326.html\n",
      "Bioinorganic Chemistry\n",
      "Type 2\n",
      "/Users/PEM-Mac/br/jobsearch/hackathon_starter/hackathon/static/data/Download/0037013691864c0aae657c5042e7fb45.html\n",
      "Dysgraphia\n",
      "Type 2\n",
      "/Users/PEM-Mac/br/jobsearch/hackathon_starter/hackathon/static/data/Download/0037f15d54001920e8e345b4290e8f09.html\n",
      "Annual Giving\n",
      "Type 2\n",
      "/Users/PEM-Mac/br/jobsearch/hackathon_starter/hackathon/static/data/Download/003807700eb3997962a4340619f6bf7a.html\n",
      "Aviation Insurance\n",
      "Type 2\n",
      "/Users/PEM-Mac/br/jobsearch/hackathon_starter/hackathon/static/data/Download/004127b521ed4a03535a09f75b67561b.html\n",
      "Gml\n",
      "Type 2\n",
      "/Users/PEM-Mac/br/jobsearch/hackathon_starter/hackathon/static/data/Download/0043e36bb1eeac2bad63ab8c931b654b.html\n",
      "Cadence Spectre\n",
      "Type 2\n",
      "/Users/PEM-Mac/br/jobsearch/hackathon_starter/hackathon/static/data/Download/0051d224115f4f18993f77731cb55cb6.html\n",
      "Feminist Theory\n",
      "Type 2\n",
      "/Users/PEM-Mac/br/jobsearch/hackathon_starter/hackathon/static/data/Download/0067d073d105e537c149e0ea8121072b.html\n",
      "Bone Density\n",
      "Type 2\n",
      "/Users/PEM-Mac/br/jobsearch/hackathon_starter/hackathon/static/data/Download/006f61335062250ac931f992c3e80a2a.html\n",
      "Delay Claims\n",
      "Type 2\n",
      "/Users/PEM-Mac/br/jobsearch/hackathon_starter/hackathon/static/data/Download/007426870285bf2dab29ad9de3da6b3c.html\n",
      "Cyberquery\n",
      "Type 2\n",
      "/Users/PEM-Mac/br/jobsearch/hackathon_starter/hackathon/static/data/Download/007ecbf3e8cb68adf775a0d6dcb18b0e.html\n",
      "Capital Campaigns\n",
      "Type 2\n",
      "/Users/PEM-Mac/br/jobsearch/hackathon_starter/hackathon/static/data/Download/008d73b6651c058967f21c883e67b668.html\n",
      "Clinical Trials\n",
      "Type 2\n",
      "/Users/PEM-Mac/br/jobsearch/hackathon_starter/hackathon/static/data/Download/00975c823858e929feb602989c60eb95.html\n",
      "Expository Preaching\n",
      "Type 2\n",
      "/Users/PEM-Mac/br/jobsearch/hackathon_starter/hackathon/static/data/Download/0098326f04023fd9e386a26fba51547e.html\n",
      "Cmis\n",
      "Type 2\n",
      "/Users/PEM-Mac/br/jobsearch/hackathon_starter/hackathon/static/data/Download/00b0a5b952ff278a0fcc155ea9ce0156.html\n",
      "Iso\n",
      "Type 2\n",
      "/Users/PEM-Mac/br/jobsearch/hackathon_starter/hackathon/static/data/Download/00cc998cad92d15ce5a3f2ca7c81cb15.html\n",
      "Clinical Monitoring\n",
      "Type 2\n",
      "/Users/PEM-Mac/br/jobsearch/hackathon_starter/hackathon/static/data/Download/00d64f5e69b846e1f99a029a6c30a33b.html\n",
      "Digital X Ray\n",
      "Type 2\n",
      "not found\n",
      "/Users/PEM-Mac/br/jobsearch/hackathon_starter/hackathon/static/data/Download/00d64f5e69b846e1f99a029a6c30a33b.html\n",
      "/Users/PEM-Mac/br/jobsearch/hackathon_starter/hackathon/static/data/Download/00d68536d76969edf97e0d563c768ae1.html\n",
      "Ip Sla\n",
      "Type 2\n",
      "/Users/PEM-Mac/br/jobsearch/hackathon_starter/hackathon/static/data/Download/00df7bb02b5269ee1bbe72ee62fd3918.html\n",
      "Corel Painter\n",
      "Type 2\n",
      "/Users/PEM-Mac/br/jobsearch/hackathon_starter/hackathon/static/data/Download/00e03fd0896d49fbe80f891446e1e408.html\n",
      "Employee Handbooks\n",
      "Type 2\n",
      "/Users/PEM-Mac/br/jobsearch/hackathon_starter/hackathon/static/data/Download/00e2bccaf3c94f5094e247a6e82473c8.html\n",
      "Geodesy\n",
      "Type 2\n",
      "/Users/PEM-Mac/br/jobsearch/hackathon_starter/hackathon/static/data/Download/00f32e34bcd3e6372fc2871f46d3a55a.html\n",
      "Basin Modeling\n",
      "Type 2\n",
      "/Users/PEM-Mac/br/jobsearch/hackathon_starter/hackathon/static/data/Download/0105f8c1ecd1c8d8a706c1f8ae25ac22.html\n",
      "Hydra\n",
      "Type 2\n",
      "/Users/PEM-Mac/br/jobsearch/hackathon_starter/hackathon/static/data/Download/0106cf96651e7576d17cd27fbff9d141.html\n",
      "Elluminate Live\n",
      "Type 2\n",
      "/Users/PEM-Mac/br/jobsearch/hackathon_starter/hackathon/static/data/Download/01080629292f27313aa24e446ed93681.html\n",
      "Computer Vision\n",
      "Type 2\n",
      "/Users/PEM-Mac/br/jobsearch/hackathon_starter/hackathon/static/data/Download/010971c4ffbd969246af670fe0b84883.html\n",
      "Facility Start Up\n",
      "Type 2\n",
      "not found\n",
      "/Users/PEM-Mac/br/jobsearch/hackathon_starter/hackathon/static/data/Download/010971c4ffbd969246af670fe0b84883.html\n",
      "/Users/PEM-Mac/br/jobsearch/hackathon_starter/hackathon/static/data/Download/010ea743e6221af1f7e7832e01b41239.html\n",
      "Corporate Fraud\n",
      "Type 2\n",
      "/Users/PEM-Mac/br/jobsearch/hackathon_starter/hackathon/static/data/Download/011890a6713298e83111569ee2f58cf6.html\n",
      "Animal Handling\n",
      "Type 2\n",
      "/Users/PEM-Mac/br/jobsearch/hackathon_starter/hackathon/static/data/Download/0122b649f9d58c1d2e730115b258b6d5.html\n",
      "Biophotonics\n",
      "Type 2\n",
      "/Users/PEM-Mac/br/jobsearch/hackathon_starter/hackathon/static/data/Download/0126f597c79445ea7ccaa1a1ba1810f5.html\n",
      "Content Managed Websites\n",
      "Type 2\n",
      "/Users/PEM-Mac/br/jobsearch/hackathon_starter/hackathon/static/data/Download/0129f8b83b63e1e690e29d7401270af1.html\n",
      "Future Trends\n",
      "Type 2\n",
      "/Users/PEM-Mac/br/jobsearch/hackathon_starter/hackathon/static/data/Download/012b2e24724ff79c509f14f75f6f109c.html\n",
      "Historical Fiction\n",
      "Type 2\n",
      "/Users/PEM-Mac/br/jobsearch/hackathon_starter/hackathon/static/data/Download/0156f8c4faab804716eaa16dce7015ec.html\n",
      "Atms\n",
      "Type 2\n",
      "/Users/PEM-Mac/br/jobsearch/hackathon_starter/hackathon/static/data/Download/0169f1e204163f4c4ff3bf554836c051.html\n",
      "Climate Change\n",
      "Type 2\n",
      "/Users/PEM-Mac/br/jobsearch/hackathon_starter/hackathon/static/data/Download/016ad476a3b1af10403666ad954d0d34.html\n",
      "Dtmf\n",
      "Type 2\n",
      "/Users/PEM-Mac/br/jobsearch/hackathon_starter/hackathon/static/data/Download/017ffc73efbc9e47b966e67a15030d50.html\n",
      "Diversity &amp; Inclusion\n",
      "Type 2\n",
      "/Users/PEM-Mac/br/jobsearch/hackathon_starter/hackathon/static/data/Download/01850fff60e3e0a6e7abca1ddeaaccac.html\n",
      "Digital Copywriting\n",
      "Type 2\n",
      "/Users/PEM-Mac/br/jobsearch/hackathon_starter/hackathon/static/data/Download/018c0547b6d97b2292d59f1a8c19717a.html\n"
     ]
    },
    {
     "ename": "KeyboardInterrupt",
     "evalue": "",
     "output_type": "error",
     "traceback": [
      "\u001b[0;31m---------------------------------------------------------------------------\u001b[0m",
      "\u001b[0;31mKeyboardInterrupt\u001b[0m                         Traceback (most recent call last)",
      "\u001b[0;32m<ipython-input-235-142d03a58a08>\u001b[0m in \u001b[0;36m<module>\u001b[0;34m()\u001b[0m\n\u001b[1;32m      1\u001b[0m \u001b[0;32mfor\u001b[0m \u001b[0mi\u001b[0m \u001b[0;32min\u001b[0m \u001b[0mlist_of_files\u001b[0m\u001b[0;34m:\u001b[0m\u001b[0;34m\u001b[0m\u001b[0m\n\u001b[0;32m----> 2\u001b[0;31m     \u001b[0moutput_text\u001b[0m \u001b[0;34m=\u001b[0m \u001b[0mparse_skills\u001b[0m\u001b[0;34m(\u001b[0m\u001b[0mi\u001b[0m\u001b[0;34m)\u001b[0m\u001b[0;34m\u001b[0m\u001b[0m\n\u001b[0m\u001b[1;32m      3\u001b[0m     \u001b[0mfilepath\u001b[0m \u001b[0;34m=\u001b[0m \u001b[0;34m'/Users/PEM-Mac/br/jobsearch/hackathon_starter/hackathon/static/data/'\u001b[0m\u001b[0;34m\u001b[0m\u001b[0m\n\u001b[1;32m      4\u001b[0m     \u001b[0mfilename\u001b[0m \u001b[0;34m=\u001b[0m \u001b[0;34m'coviewed_skills.tsv'\u001b[0m\u001b[0;34m\u001b[0m\u001b[0m\n\u001b[1;32m      5\u001b[0m     \u001b[0;32mwith\u001b[0m \u001b[0mopen\u001b[0m\u001b[0;34m(\u001b[0m\u001b[0mfilepath\u001b[0m \u001b[0;34m+\u001b[0m \u001b[0mfilename\u001b[0m\u001b[0;34m,\u001b[0m \u001b[0;34m'a'\u001b[0m\u001b[0;34m)\u001b[0m \u001b[0;32mas\u001b[0m \u001b[0mf\u001b[0m\u001b[0;34m:\u001b[0m\u001b[0;34m\u001b[0m\u001b[0m\n",
      "\u001b[0;32m<ipython-input-233-afe54f926027>\u001b[0m in \u001b[0;36mparse_skills\u001b[0;34m(filepath)\u001b[0m\n\u001b[1;32m      9\u001b[0m \u001b[0;34m\u001b[0m\u001b[0m\n\u001b[1;32m     10\u001b[0m     \u001b[0;32mwith\u001b[0m \u001b[0mopen\u001b[0m\u001b[0;34m(\u001b[0m\u001b[0mfilepath\u001b[0m\u001b[0;34m,\u001b[0m \u001b[0;34m'r'\u001b[0m\u001b[0;34m)\u001b[0m \u001b[0;32mas\u001b[0m \u001b[0mf\u001b[0m\u001b[0;34m:\u001b[0m\u001b[0;34m\u001b[0m\u001b[0m\n\u001b[0;32m---> 11\u001b[0;31m         \u001b[0msoup\u001b[0m \u001b[0;34m=\u001b[0m \u001b[0mBeautifulSoup\u001b[0m\u001b[0;34m(\u001b[0m\u001b[0mf\u001b[0m\u001b[0;34m.\u001b[0m\u001b[0mread\u001b[0m\u001b[0;34m(\u001b[0m\u001b[0;34m)\u001b[0m\u001b[0;34m)\u001b[0m\u001b[0;34m\u001b[0m\u001b[0m\n\u001b[0m\u001b[1;32m     12\u001b[0m     \u001b[0;32mtry\u001b[0m\u001b[0;34m:\u001b[0m\u001b[0;34m\u001b[0m\u001b[0m\n\u001b[1;32m     13\u001b[0m         \u001b[0mss\u001b[0m \u001b[0;34m=\u001b[0m \u001b[0msoup\u001b[0m\u001b[0;34m.\u001b[0m\u001b[0mfind\u001b[0m\u001b[0;34m(\u001b[0m\u001b[0;34m\"h1\"\u001b[0m\u001b[0;34m)\u001b[0m\u001b[0;34m.\u001b[0m\u001b[0mget_text\u001b[0m\u001b[0;34m(\u001b[0m\u001b[0;34m)\u001b[0m\u001b[0;34m\u001b[0m\u001b[0m\n",
      "\u001b[0;32m/virt_env/django_starter/lib/python2.7/site-packages/bs4/__init__.pyc\u001b[0m in \u001b[0;36m__init__\u001b[0;34m(self, markup, features, builder, parse_only, from_encoding, **kwargs)\u001b[0m\n\u001b[1;32m    194\u001b[0m             \u001b[0mself\u001b[0m\u001b[0;34m.\u001b[0m\u001b[0mreset\u001b[0m\u001b[0;34m(\u001b[0m\u001b[0;34m)\u001b[0m\u001b[0;34m\u001b[0m\u001b[0m\n\u001b[1;32m    195\u001b[0m             \u001b[0;32mtry\u001b[0m\u001b[0;34m:\u001b[0m\u001b[0;34m\u001b[0m\u001b[0m\n\u001b[0;32m--> 196\u001b[0;31m                 \u001b[0mself\u001b[0m\u001b[0;34m.\u001b[0m\u001b[0m_feed\u001b[0m\u001b[0;34m(\u001b[0m\u001b[0;34m)\u001b[0m\u001b[0;34m\u001b[0m\u001b[0m\n\u001b[0m\u001b[1;32m    197\u001b[0m                 \u001b[0;32mbreak\u001b[0m\u001b[0;34m\u001b[0m\u001b[0m\n\u001b[1;32m    198\u001b[0m             \u001b[0;32mexcept\u001b[0m \u001b[0mParserRejectedMarkup\u001b[0m\u001b[0;34m:\u001b[0m\u001b[0;34m\u001b[0m\u001b[0m\n",
      "\u001b[0;32m/virt_env/django_starter/lib/python2.7/site-packages/bs4/__init__.pyc\u001b[0m in \u001b[0;36m_feed\u001b[0;34m(self)\u001b[0m\n\u001b[1;32m    208\u001b[0m         \u001b[0mself\u001b[0m\u001b[0;34m.\u001b[0m\u001b[0mbuilder\u001b[0m\u001b[0;34m.\u001b[0m\u001b[0mreset\u001b[0m\u001b[0;34m(\u001b[0m\u001b[0;34m)\u001b[0m\u001b[0;34m\u001b[0m\u001b[0m\n\u001b[1;32m    209\u001b[0m \u001b[0;34m\u001b[0m\u001b[0m\n\u001b[0;32m--> 210\u001b[0;31m         \u001b[0mself\u001b[0m\u001b[0;34m.\u001b[0m\u001b[0mbuilder\u001b[0m\u001b[0;34m.\u001b[0m\u001b[0mfeed\u001b[0m\u001b[0;34m(\u001b[0m\u001b[0mself\u001b[0m\u001b[0;34m.\u001b[0m\u001b[0mmarkup\u001b[0m\u001b[0;34m)\u001b[0m\u001b[0;34m\u001b[0m\u001b[0m\n\u001b[0m\u001b[1;32m    211\u001b[0m         \u001b[0;31m# Close out any unfinished strings and close all the open tags.\u001b[0m\u001b[0;34m\u001b[0m\u001b[0;34m\u001b[0m\u001b[0m\n\u001b[1;32m    212\u001b[0m         \u001b[0mself\u001b[0m\u001b[0;34m.\u001b[0m\u001b[0mendData\u001b[0m\u001b[0;34m(\u001b[0m\u001b[0;34m)\u001b[0m\u001b[0;34m\u001b[0m\u001b[0m\n",
      "\u001b[0;32m/virt_env/django_starter/lib/python2.7/site-packages/bs4/builder/_htmlparser.pyc\u001b[0m in \u001b[0;36mfeed\u001b[0;34m(self, markup)\u001b[0m\n\u001b[1;32m    158\u001b[0m         \u001b[0mparser\u001b[0m\u001b[0;34m.\u001b[0m\u001b[0msoup\u001b[0m \u001b[0;34m=\u001b[0m \u001b[0mself\u001b[0m\u001b[0;34m.\u001b[0m\u001b[0msoup\u001b[0m\u001b[0;34m\u001b[0m\u001b[0m\n\u001b[1;32m    159\u001b[0m         \u001b[0;32mtry\u001b[0m\u001b[0;34m:\u001b[0m\u001b[0;34m\u001b[0m\u001b[0m\n\u001b[0;32m--> 160\u001b[0;31m             \u001b[0mparser\u001b[0m\u001b[0;34m.\u001b[0m\u001b[0mfeed\u001b[0m\u001b[0;34m(\u001b[0m\u001b[0mmarkup\u001b[0m\u001b[0;34m)\u001b[0m\u001b[0;34m\u001b[0m\u001b[0m\n\u001b[0m\u001b[1;32m    161\u001b[0m         \u001b[0;32mexcept\u001b[0m \u001b[0mHTMLParseError\u001b[0m\u001b[0;34m,\u001b[0m \u001b[0me\u001b[0m\u001b[0;34m:\u001b[0m\u001b[0;34m\u001b[0m\u001b[0m\n\u001b[1;32m    162\u001b[0m             warnings.warn(RuntimeWarning(\n",
      "\u001b[0;32m/System/Library/Frameworks/Python.framework/Versions/2.7/lib/python2.7/HTMLParser.pyc\u001b[0m in \u001b[0;36mfeed\u001b[0;34m(self, data)\u001b[0m\n\u001b[1;32m    112\u001b[0m         \"\"\"\n\u001b[1;32m    113\u001b[0m         \u001b[0mself\u001b[0m\u001b[0;34m.\u001b[0m\u001b[0mrawdata\u001b[0m \u001b[0;34m=\u001b[0m \u001b[0mself\u001b[0m\u001b[0;34m.\u001b[0m\u001b[0mrawdata\u001b[0m \u001b[0;34m+\u001b[0m \u001b[0mdata\u001b[0m\u001b[0;34m\u001b[0m\u001b[0m\n\u001b[0;32m--> 114\u001b[0;31m         \u001b[0mself\u001b[0m\u001b[0;34m.\u001b[0m\u001b[0mgoahead\u001b[0m\u001b[0;34m(\u001b[0m\u001b[0;36m0\u001b[0m\u001b[0;34m)\u001b[0m\u001b[0;34m\u001b[0m\u001b[0m\n\u001b[0m\u001b[1;32m    115\u001b[0m \u001b[0;34m\u001b[0m\u001b[0m\n\u001b[1;32m    116\u001b[0m     \u001b[0;32mdef\u001b[0m \u001b[0mclose\u001b[0m\u001b[0;34m(\u001b[0m\u001b[0mself\u001b[0m\u001b[0;34m)\u001b[0m\u001b[0;34m:\u001b[0m\u001b[0;34m\u001b[0m\u001b[0m\n",
      "\u001b[0;32m/System/Library/Frameworks/Python.framework/Versions/2.7/lib/python2.7/HTMLParser.pyc\u001b[0m in \u001b[0;36mgoahead\u001b[0;34m(self, end)\u001b[0m\n\u001b[1;32m    156\u001b[0m             \u001b[0;32mif\u001b[0m \u001b[0mstartswith\u001b[0m\u001b[0;34m(\u001b[0m\u001b[0;34m'<'\u001b[0m\u001b[0;34m,\u001b[0m \u001b[0mi\u001b[0m\u001b[0;34m)\u001b[0m\u001b[0;34m:\u001b[0m\u001b[0;34m\u001b[0m\u001b[0m\n\u001b[1;32m    157\u001b[0m                 \u001b[0;32mif\u001b[0m \u001b[0mstarttagopen\u001b[0m\u001b[0;34m.\u001b[0m\u001b[0mmatch\u001b[0m\u001b[0;34m(\u001b[0m\u001b[0mrawdata\u001b[0m\u001b[0;34m,\u001b[0m \u001b[0mi\u001b[0m\u001b[0;34m)\u001b[0m\u001b[0;34m:\u001b[0m \u001b[0;31m# < + letter\u001b[0m\u001b[0;34m\u001b[0m\u001b[0m\n\u001b[0;32m--> 158\u001b[0;31m                     \u001b[0mk\u001b[0m \u001b[0;34m=\u001b[0m \u001b[0mself\u001b[0m\u001b[0;34m.\u001b[0m\u001b[0mparse_starttag\u001b[0m\u001b[0;34m(\u001b[0m\u001b[0mi\u001b[0m\u001b[0;34m)\u001b[0m\u001b[0;34m\u001b[0m\u001b[0m\n\u001b[0m\u001b[1;32m    159\u001b[0m                 \u001b[0;32melif\u001b[0m \u001b[0mstartswith\u001b[0m\u001b[0;34m(\u001b[0m\u001b[0;34m\"</\"\u001b[0m\u001b[0;34m,\u001b[0m \u001b[0mi\u001b[0m\u001b[0;34m)\u001b[0m\u001b[0;34m:\u001b[0m\u001b[0;34m\u001b[0m\u001b[0m\n\u001b[1;32m    160\u001b[0m                     \u001b[0mk\u001b[0m \u001b[0;34m=\u001b[0m \u001b[0mself\u001b[0m\u001b[0;34m.\u001b[0m\u001b[0mparse_endtag\u001b[0m\u001b[0;34m(\u001b[0m\u001b[0mi\u001b[0m\u001b[0;34m)\u001b[0m\u001b[0;34m\u001b[0m\u001b[0m\n",
      "\u001b[0;32m/System/Library/Frameworks/Python.framework/Versions/2.7/lib/python2.7/HTMLParser.pyc\u001b[0m in \u001b[0;36mparse_starttag\u001b[0;34m(self, i)\u001b[0m\n\u001b[1;32m    304\u001b[0m             \u001b[0;32mif\u001b[0m \u001b[0mattrvalue\u001b[0m\u001b[0;34m:\u001b[0m\u001b[0;34m\u001b[0m\u001b[0m\n\u001b[1;32m    305\u001b[0m                 \u001b[0mattrvalue\u001b[0m \u001b[0;34m=\u001b[0m \u001b[0mself\u001b[0m\u001b[0;34m.\u001b[0m\u001b[0munescape\u001b[0m\u001b[0;34m(\u001b[0m\u001b[0mattrvalue\u001b[0m\u001b[0;34m)\u001b[0m\u001b[0;34m\u001b[0m\u001b[0m\n\u001b[0;32m--> 306\u001b[0;31m             \u001b[0mattrs\u001b[0m\u001b[0;34m.\u001b[0m\u001b[0mappend\u001b[0m\u001b[0;34m(\u001b[0m\u001b[0;34m(\u001b[0m\u001b[0mattrname\u001b[0m\u001b[0;34m.\u001b[0m\u001b[0mlower\u001b[0m\u001b[0;34m(\u001b[0m\u001b[0;34m)\u001b[0m\u001b[0;34m,\u001b[0m \u001b[0mattrvalue\u001b[0m\u001b[0;34m)\u001b[0m\u001b[0;34m)\u001b[0m\u001b[0;34m\u001b[0m\u001b[0m\n\u001b[0m\u001b[1;32m    307\u001b[0m             \u001b[0mk\u001b[0m \u001b[0;34m=\u001b[0m \u001b[0mm\u001b[0m\u001b[0;34m.\u001b[0m\u001b[0mend\u001b[0m\u001b[0;34m(\u001b[0m\u001b[0;34m)\u001b[0m\u001b[0;34m\u001b[0m\u001b[0m\n\u001b[1;32m    308\u001b[0m \u001b[0;34m\u001b[0m\u001b[0m\n",
      "\u001b[0;31mKeyboardInterrupt\u001b[0m: "
     ]
    }
   ],
   "source": [
    "for i in list_of_files:\n",
    "    output_text = parse_skills(i)\n",
    "    filepath = '/Users/PEM-Mac/br/jobsearch/hackathon_starter/hackathon/static/data/'\n",
    "    filename = 'coviewed_skills.tsv'\n",
    "    with open(filepath + filename, 'a') as f:\n",
    "        f.write(output_text)"
   ]
  },
  {
   "cell_type": "code",
   "execution_count": 218,
   "metadata": {
    "collapsed": false
   },
   "outputs": [
    {
     "name": "stdout",
     "output_type": "stream",
     "text": [
      "4857\n"
     ]
    }
   ],
   "source": [
    "print re.findall(r'\\([0-9,]+', i.get_text())[0].replace('(', '').replace(',', '').strip()"
   ]
  },
  {
   "cell_type": "code",
   "execution_count": 240,
   "metadata": {
    "collapsed": false
   },
   "outputs": [
    {
     "name": "stdout",
     "output_type": "stream",
     "text": [
      "/Users/PEM-Mac/br/jobsearch/hackathon_starter/hackathon/static/data/download/52b9db52457ad6542acc9d6ca3d21e2c.html\n",
      "Cell Cycle Analysis\n",
      "Type 2\n",
      "Cell Cycle Analysis\tMcGill University\t13\n",
      "Cell Cycle Analysis\tNational Taiwan University\t9\n",
      "Cell Cycle Analysis\tUniversitat de Barcelona\t8\n",
      "Cell Cycle Analysis\tUniversity of California, Los Angeles\t8\n",
      "Cell Cycle Analysis\tUniversity of Leicester\t8\n",
      "Cell Cycle Analysis\tUniversidad de Oviedo\t6\n",
      "Cell Cycle Analysis\tKøbenhavns Universitet\t6\n",
      "Cell Cycle Analysis\tImperial College London\t6\n",
      "Cell Cycle Analysis\tUniversity of Mumbai\t6\n",
      "Cell Cycle Analysis\tUniversity of California, San Diego\t6\n",
      "\n"
     ]
    },
    {
     "ename": "AttributeError",
     "evalue": "'NoneType' object has no attribute 'get_text'",
     "output_type": "error",
     "traceback": [
      "\u001b[0;31m---------------------------------------------------------------------------\u001b[0m",
      "\u001b[0;31mAttributeError\u001b[0m                            Traceback (most recent call last)",
      "\u001b[0;32m<ipython-input-240-9ea1453519f3>\u001b[0m in \u001b[0;36m<module>\u001b[0;34m()\u001b[0m\n\u001b[1;32m      3\u001b[0m \u001b[0;34m\u001b[0m\u001b[0m\n\u001b[1;32m      4\u001b[0m \u001b[0;34m\u001b[0m\u001b[0m\n\u001b[0;32m----> 5\u001b[0;31m \u001b[0msoup\u001b[0m\u001b[0;34m.\u001b[0m\u001b[0mfind\u001b[0m\u001b[0;34m(\u001b[0m\u001b[0;34m\"h12\"\u001b[0m\u001b[0;34m)\u001b[0m\u001b[0;34m.\u001b[0m\u001b[0mget_text\u001b[0m\u001b[0;34m(\u001b[0m\u001b[0;34m)\u001b[0m\u001b[0;34m\u001b[0m\u001b[0m\n\u001b[0m",
      "\u001b[0;31mAttributeError\u001b[0m: 'NoneType' object has no attribute 'get_text'"
     ]
    }
   ],
   "source": [
    "blueshoes = parse_skills('/Users/PEM-Mac/br/jobsearch/hackathon_starter/hackathon/static/data/download/52b9db52457ad6542acc9d6ca3d21e2c.html')\n",
    "print blueshoes\n",
    "\n",
    "\n",
    "soup.find(\"h12\").get_text()"
   ]
  },
  {
   "cell_type": "code",
   "execution_count": 1,
   "metadata": {
    "collapsed": false
   },
   "outputs": [],
   "source": [
    "from hackathon.models import CoviewedSkills"
   ]
  },
  {
   "cell_type": "code",
   "execution_count": 2,
   "metadata": {
    "collapsed": false
   },
   "outputs": [
    {
     "data": {
      "text/plain": [
       "[<CoviewedSkills: marine electronics>]"
      ]
     },
     "execution_count": 2,
     "metadata": {},
     "output_type": "execute_result"
    }
   ],
   "source": [
    "CoviewedSkills.objects.filter(id=1)"
   ]
  },
  {
   "cell_type": "code",
   "execution_count": 17,
   "metadata": {
    "collapsed": false
   },
   "outputs": [],
   "source": [
    "## See if monster can help\n",
    "\n",
    "##Python libraries\n",
    "import urllib2\n",
    "import urllib\n",
    "from bs4 import BeautifulSoup\n",
    "import string\n",
    "\n",
    "\n",
    "#Internal libraries\n",
    "from hackathon.scripts.utils import create_hash_string, get_url_data_with_retries, get_url_data, fetch_save_urls\n",
    "from  hackathon.models import CoviewedSkills\n",
    "#Global variables\n",
    "\n",
    "#i = \"Product Engagement Manager\"\n",
    "\n",
    "def generate_monster_url(job_title):\n",
    "    url_base = \"http://jobs.monster.com/search/?q=\"\n",
    "    print job_title\n",
    "    \n",
    "    encodelist = []\n",
    "    slug = ''\n",
    "    \n",
    "    #remove_punctuation_map = dict((ord(char), None) for char in string.punctuation)\n",
    "    word_list = [job_title.translate(None, string.punctuation) for s in job_title.strip().split(\" \")]\n",
    "    print word_list\n",
    "    print \"XXXXXXXXXXXX\"\n",
    "    #.translate(None, string.punctuation).\n",
    "    for x in job_title.translate(None, string.punctuation).strip().split(\" \"):\n",
    "        encodelist.append(urllib.quote_plus(x))\n",
    "        slug = '-'.join(encodelist)\n",
    "    url = url_base + slug\n",
    "    return url\n",
    "\n",
    "def parse_monster_url(job_title):\n",
    "    url = generate_monster_url(job_title)\n",
    "    output = get_url_data_with_retries(url, 3)\n",
    "    soup = BeautifulSoup(output)\n",
    "    ss = soup.find(\"li\", {\"id\": \"backlinkingwidgetSkill\"}).find_all(\"li\")\n",
    "    m_related_skills = []\n",
    "    for i in ss:\n",
    "        m_related_skills.append(i.find(\"a\").get_text())\n",
    "        \n",
    "    m_related_skills.remove(\"Show More\")\n",
    "    m_related_skills.remove(\"show less\")\n",
    "    print m_related_skills\n",
    "    return m_related_skills\n"
   ]
  },
  {
   "cell_type": "code",
   "execution_count": 18,
   "metadata": {
    "collapsed": false
   },
   "outputs": [
    {
     "name": "stdout",
     "output_type": "stream",
     "text": [
      "product\n",
      "['product']\n",
      "XXXXXXXXXXXX\n",
      "[u'Product Development', u'IBM Product Family', u'Product Management', u'Microsoft Product Family', u'Product Pricing', u'Product Demonstration', u'Corporate Communications', u'Promotional Programs', u'Product Support', u'Product/Service Launch']\n"
     ]
    },
    {
     "data": {
      "text/plain": [
       "[u'Product Development',\n",
       " u'IBM Product Family',\n",
       " u'Product Management',\n",
       " u'Microsoft Product Family',\n",
       " u'Product Pricing',\n",
       " u'Product Demonstration',\n",
       " u'Corporate Communications',\n",
       " u'Promotional Programs',\n",
       " u'Product Support',\n",
       " u'Product/Service Launch']"
      ]
     },
     "execution_count": 18,
     "metadata": {},
     "output_type": "execute_result"
    }
   ],
   "source": [
    "parse_monster_url(\"product\")"
   ]
  },
  {
   "cell_type": "code",
   "execution_count": 57,
   "metadata": {
    "collapsed": false
   },
   "outputs": [],
   "source": [
    "from django.core.exceptions import ObjectDoesNotExist\n",
    "def get_coviewed_skill(list_of_skills):\n",
    "    for skill in list_of_skills:\n",
    "        try:\n",
    "            print skill\n",
    "            coviewed_skill_query = CoviewedSkills.objects.filter(source_skill=skill)\n",
    "            max_query_count = coviewed_skill_query.get(target_skill_rank = 1).target_skill_count\n",
    "\n",
    "            for i in coviewed_skill_query:\n",
    "                print i.target_skill_rank, i.target_skill,  i.target_skill_count, (i.target_skill_count*100/max_query_count)\n",
    "        except ObjectDoesNotExist, e:\n",
    "            print e\n",
    "    "
   ]
  },
  {
   "cell_type": "code",
   "execution_count": 58,
   "metadata": {
    "collapsed": false
   },
   "outputs": [
    {
     "name": "stdout",
     "output_type": "stream",
     "text": [
      "product\n",
      "['product']\n",
      "XXXXXXXXXXXX\n",
      "[u'Product Development', u'IBM Product Family', u'Product Management', u'Microsoft Product Family', u'Product Pricing', u'Product Demonstration', u'Corporate Communications', u'Promotional Programs', u'Product Support', u'Product/Service Launch']\n"
     ]
    }
   ],
   "source": [
    "list_of_skills = parse_monster_url(\"product\")"
   ]
  },
  {
   "cell_type": "code",
   "execution_count": 61,
   "metadata": {
    "collapsed": false
   },
   "outputs": [
    {
     "name": "stdout",
     "output_type": "stream",
     "text": [
      "[u'Product Development', u'IBM Product Family', u'Product Management', u'Microsoft Product Family', u'Product Pricing', u'Product Demonstration', u'Corporate Communications', u'Promotional Programs', u'Product Support', u'Product/Service Launch']\n"
     ]
    },
    {
     "data": {
      "text/plain": [
       "(1L, u'management', 1495915L, 100L)"
      ]
     },
     "execution_count": 61,
     "metadata": {},
     "output_type": "execute_result"
    }
   ],
   "source": [
    "print list_of_skills\n",
    "get_coviewed_skill(list_of_skills)"
   ]
  },
  {
   "cell_type": "code",
   "execution_count": null,
   "metadata": {
    "collapsed": true
   },
   "outputs": [],
   "source": []
  }
 ],
 "metadata": {
  "kernelspec": {
   "display_name": "Django Shell-Plus",
   "language": "python",
   "name": "django_extensions"
  },
  "language_info": {
   "codemirror_mode": {
    "name": "ipython",
    "version": 2
   },
   "file_extension": ".py",
   "mimetype": "text/x-python",
   "name": "python",
   "nbconvert_exporter": "python",
   "pygments_lexer": "ipython2",
   "version": "2.7.6"
  }
 },
 "nbformat": 4,
 "nbformat_minor": 0
}
