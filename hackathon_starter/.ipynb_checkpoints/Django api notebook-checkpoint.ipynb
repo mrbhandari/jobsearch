{
 "cells": [
  {
   "cell_type": "code",
   "execution_count": 19,
   "metadata": {
    "collapsed": false
   },
   "outputs": [
    {
     "name": "stdout",
     "output_type": "stream",
     "text": [
      "The Product Manager's Survival Guide: Everything You Need to Know to Succeed as a Product Manager\n",
      "Steven Haines\n",
      "http://www.amazon.com/The-Product-Managers-Survival-Guide/dp/007180546X%3FSubscriptionId%3DAKIAJWVNFRPWFFRAWFZA%26tag%3Drandguav-20%26linkCode%3Dxm2%26camp%3D2025%26creative%3D165953%26creativeASIN%3D007180546X\n",
      "$13.10\n",
      "http://ecx.images-amazon.com/images/I/517rPD4L%2BYL.jpg\n",
      "<div class=\"panel panel-primary\">\n",
      "    <div class=\"panel-heading\">\n",
      "        <h3 class=\"panel-title\">\n",
      "            product management\n",
      "        </h3>\n",
      "    </div>\n",
      "    <div class=\"panel-body\" id=\"reading_skills\">\n",
      "        \n",
      "        <li>The Product Manager&#39;s Survival Guide: Everything You Need to Know to Succeed as a Product Manager</li>\n",
      "        \n",
      "        \n",
      "        <li>Agile Product Management with Scrum: Creating Products that Customers Love (Addison-Wesley Signature Series (Cohn))</li>\n",
      "        \n",
      "        \n",
      "        <li>New Products Management</li>\n",
      "        \n",
      "        \n",
      "        <li>Decode and Conquer: Answers to Product Management Interviews</li>\n",
      "        \n",
      "        \n",
      "        <li>New Products Management</li>\n",
      "        \n",
      "        \n",
      "    </div>\n",
      "</div>\n"
     ]
    }
   ],
   "source": [
    "import json\n",
    "import urllib2\n",
    "from django.template import Template, Context, loader\n",
    "\n",
    "from urllib2 import URLError\n",
    "\n",
    "skill = 'product%20management'\n",
    "skill_unquote =  urllib2.unquote(skill)\n",
    "request_url = 'https://redhoop.com/amazon/' + skill\n",
    "\n",
    "try:\n",
    "    data = json.load(urllib2.urlopen(request_url))\n",
    "    print data[0]['name']\n",
    "    print data[0]['author']\n",
    "    print data[0]['url']\n",
    "    print data[0]['price']\n",
    "    print data[0]['image']\n",
    "    \n",
    "    t = loader.get_template('api/amazon_reading_api.html')\n",
    "    \n",
    "    context = Context({\"response\": data, \"skill\": skill_unquote})\n",
    "    print t.render(context)\n",
    "    \n",
    "except URLError, e:\n",
    "\n",
    "    print 'Failed. Got an error code:', e"
   ]
  },
  {
   "cell_type": "code",
   "execution_count": 1,
   "metadata": {
    "collapsed": false
   },
   "outputs": [
    {
     "ename": "NameError",
     "evalue": "name 'os' is not defined",
     "output_type": "error",
     "traceback": [
      "\u001b[0;31m---------------------------------------------------------------------------\u001b[0m",
      "\u001b[0;31mNameError\u001b[0m                                 Traceback (most recent call last)",
      "\u001b[0;32m<ipython-input-1-4ac536b7cdda>\u001b[0m in \u001b[0;36m<module>\u001b[0;34m()\u001b[0m\n\u001b[1;32m      1\u001b[0m \u001b[0mmatched_skills_linkedin\u001b[0m\u001b[0;34m,\u001b[0m \u001b[0mall_skills\u001b[0m\u001b[0;34m,\u001b[0m \u001b[0mblacklist_skills\u001b[0m \u001b[0;34m=\u001b[0m \u001b[0;34m[\u001b[0m\u001b[0;34m]\u001b[0m\u001b[0;34m,\u001b[0m \u001b[0;34m[\u001b[0m\u001b[0;34m]\u001b[0m\u001b[0;34m,\u001b[0m \u001b[0;34m[\u001b[0m\u001b[0;34m]\u001b[0m\u001b[0;34m\u001b[0m\u001b[0m\n\u001b[1;32m      2\u001b[0m \u001b[0;34m\u001b[0m\u001b[0m\n\u001b[0;32m----> 3\u001b[0;31m \u001b[0mskills_path_join\u001b[0m \u001b[0;34m=\u001b[0m \u001b[0mos\u001b[0m\u001b[0;34m.\u001b[0m\u001b[0mpath\u001b[0m\u001b[0;34m.\u001b[0m\u001b[0mjoin\u001b[0m\u001b[0;34m(\u001b[0m\u001b[0mos\u001b[0m\u001b[0;34m.\u001b[0m\u001b[0mpath\u001b[0m\u001b[0;34m.\u001b[0m\u001b[0mabspath\u001b[0m\u001b[0;34m(\u001b[0m\u001b[0mos\u001b[0m\u001b[0;34m.\u001b[0m\u001b[0mpath\u001b[0m\u001b[0;34m.\u001b[0m\u001b[0mdirname\u001b[0m\u001b[0;34m(\u001b[0m\u001b[0m__file__\u001b[0m\u001b[0;34m)\u001b[0m\u001b[0;34m)\u001b[0m\u001b[0;34m,\u001b[0m \u001b[0;34m\"..\"\u001b[0m\u001b[0;34m,\u001b[0m \u001b[0;34m\"static\"\u001b[0m\u001b[0;34m,\u001b[0m \u001b[0;34m\"data\"\u001b[0m\u001b[0;34m,\u001b[0m \u001b[0mskills_path\u001b[0m\u001b[0;34m)\u001b[0m\u001b[0;34m\u001b[0m\u001b[0m\n\u001b[0m\u001b[1;32m      4\u001b[0m \u001b[0mblacklist_path\u001b[0m \u001b[0;34m=\u001b[0m \u001b[0mos\u001b[0m\u001b[0;34m.\u001b[0m\u001b[0mpath\u001b[0m\u001b[0;34m.\u001b[0m\u001b[0mjoin\u001b[0m\u001b[0;34m(\u001b[0m\u001b[0mos\u001b[0m\u001b[0;34m.\u001b[0m\u001b[0mpath\u001b[0m\u001b[0;34m.\u001b[0m\u001b[0mabspath\u001b[0m\u001b[0;34m(\u001b[0m\u001b[0mos\u001b[0m\u001b[0;34m.\u001b[0m\u001b[0mpath\u001b[0m\u001b[0;34m.\u001b[0m\u001b[0mdirname\u001b[0m\u001b[0;34m(\u001b[0m\u001b[0m__file__\u001b[0m\u001b[0;34m)\u001b[0m\u001b[0;34m)\u001b[0m\u001b[0;34m,\u001b[0m \u001b[0;34m\"..\"\u001b[0m\u001b[0;34m,\u001b[0m \u001b[0;34m\"static\"\u001b[0m\u001b[0;34m,\u001b[0m \u001b[0;34m\"data\"\u001b[0m\u001b[0;34m,\u001b[0m \u001b[0;34m\"blacklist.txt\"\u001b[0m\u001b[0;34m)\u001b[0m\u001b[0;34m\u001b[0m\u001b[0m\n\u001b[1;32m      5\u001b[0m \u001b[0;34m\u001b[0m\u001b[0m\n",
      "\u001b[0;31mNameError\u001b[0m: name 'os' is not defined"
     ]
    }
   ],
   "source": [
    "skills_path = \"all_uniq.txtout\"\n",
    "matched_skills_linkedin, all_skills, blacklist_skills = [], [], []\n",
    "\n",
    "\n",
    "    \n",
    "skills_path_join = os.path.join(os.path.abspath(os.path.dirname(__file__)), \"..\", \"static\", \"data\", skills_path)\n",
    "blacklist_path = os.path.join(os.path.abspath(os.path.dirname(__file__)), \"..\", \"static\", \"data\", \"blacklist.txt\")\n",
    "\n",
    "with open(blacklist_path, 'r') as fp:\n",
    "    for line in fp:\n",
    "        blacklist_skills.append(line.lower().strip())\n",
    "\n",
    "with open(skills_path_join, 'r') as fp:\n",
    "    for line in fp:\n",
    "        all_skills.append(line.lower().strip())\n",
    "\n",
    "for x in blacklist_skills:\n",
    "  all_skills.remove(x)\n",
    "\n",
    "all_skills_stemmed = [stemmed_word(i) for i in all_skills]\n"
   ]
  },
  {
   "cell_type": "code",
   "execution_count": null,
   "metadata": {
    "collapsed": true
   },
   "outputs": [],
   "source": []
  }
 ],
 "metadata": {
  "kernelspec": {
   "display_name": "Django Shell-Plus",
   "language": "python",
   "name": "django_extensions"
  },
  "language_info": {
   "codemirror_mode": {
    "name": "ipython",
    "version": 2
   },
   "file_extension": ".py",
   "mimetype": "text/x-python",
   "name": "python",
   "nbconvert_exporter": "python",
   "pygments_lexer": "ipython2",
   "version": "2.7.6"
  }
 },
 "nbformat": 4,
 "nbformat_minor": 0
}
