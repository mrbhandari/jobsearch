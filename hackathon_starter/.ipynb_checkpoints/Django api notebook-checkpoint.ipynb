{
 "cells": [
  {
   "cell_type": "code",
   "execution_count": 19,
   "metadata": {
    "collapsed": false
   },
   "outputs": [
    {
     "name": "stdout",
     "output_type": "stream",
     "text": [
      "The Product Manager's Survival Guide: Everything You Need to Know to Succeed as a Product Manager\n",
      "Steven Haines\n",
      "http://www.amazon.com/The-Product-Managers-Survival-Guide/dp/007180546X%3FSubscriptionId%3DAKIAJWVNFRPWFFRAWFZA%26tag%3Drandguav-20%26linkCode%3Dxm2%26camp%3D2025%26creative%3D165953%26creativeASIN%3D007180546X\n",
      "$13.10\n",
      "http://ecx.images-amazon.com/images/I/517rPD4L%2BYL.jpg\n",
      "<div class=\"panel panel-primary\">\n",
      "    <div class=\"panel-heading\">\n",
      "        <h3 class=\"panel-title\">\n",
      "            product management\n",
      "        </h3>\n",
      "    </div>\n",
      "    <div class=\"panel-body\" id=\"reading_skills\">\n",
      "        \n",
      "        <li>The Product Manager&#39;s Survival Guide: Everything You Need to Know to Succeed as a Product Manager</li>\n",
      "        \n",
      "        \n",
      "        <li>Agile Product Management with Scrum: Creating Products that Customers Love (Addison-Wesley Signature Series (Cohn))</li>\n",
      "        \n",
      "        \n",
      "        <li>New Products Management</li>\n",
      "        \n",
      "        \n",
      "        <li>Decode and Conquer: Answers to Product Management Interviews</li>\n",
      "        \n",
      "        \n",
      "        <li>New Products Management</li>\n",
      "        \n",
      "        \n",
      "    </div>\n",
      "</div>\n"
     ]
    }
   ],
   "source": [
    "import json\n",
    "import urllib2\n",
    "from django.template import Template, Context, loader\n",
    "\n",
    "from urllib2 import URLError\n",
    "\n",
    "skill = 'product%20management'\n",
    "skill_unquote =  urllib2.unquote(skill)\n",
    "request_url = 'https://redhoop.com/amazon/' + skill\n",
    "\n",
    "try:\n",
    "    data = json.load(urllib2.urlopen(request_url))\n",
    "    print data[0]['name']\n",
    "    print data[0]['author']\n",
    "    print data[0]['url']\n",
    "    print data[0]['price']\n",
    "    print data[0]['image']\n",
    "    \n",
    "    t = loader.get_template('api/amazon_reading_api.html')\n",
    "    \n",
    "    context = Context({\"response\": data, \"skill\": skill_unquote})\n",
    "    print t.render(context)\n",
    "    \n",
    "except URLError, e:\n",
    "    print 'Failed. Got an error code:', e"
   ]
  },
  {
   "cell_type": "code",
   "execution_count": null,
   "metadata": {
    "collapsed": true
   },
   "outputs": [],
   "source": []
  },
  {
   "cell_type": "code",
   "execution_count": null,
   "metadata": {
    "collapsed": true
   },
   "outputs": [],
   "source": []
  }
 ],
 "metadata": {
  "kernelspec": {
   "display_name": "Django Shell-Plus",
   "language": "python",
   "name": "django_extensions"
  },
  "language_info": {
   "codemirror_mode": {
    "name": "ipython",
    "version": 2
   },
   "file_extension": ".py",
   "mimetype": "text/x-python",
   "name": "python",
   "nbconvert_exporter": "python",
   "pygments_lexer": "ipython2",
   "version": "2.7.6"
  }
 },
 "nbformat": 4,
 "nbformat_minor": 0
}
