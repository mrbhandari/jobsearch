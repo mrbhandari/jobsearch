{
 "cells": [
  {
   "cell_type": "code",
   "execution_count": 1,
   "metadata": {
    "collapsed": true
   },
   "outputs": [],
   "source": [
    "import urllib2\n",
    "import hashlib\n",
    "import time\n",
    "import os\n",
    "import urllib\n",
    "\n",
    "def get_url_data(url):\n",
    "    opener = urllib2.build_opener()\n",
    "    opener.addheaders = [('User-agent', 'Googlebot'), ('Cookie', 'bcookie=\"v=2&a4dbb96f-4c7b-4d2a-88b2-32cc9abdf6d4\"')]\n",
    "    f = opener.open(url)\n",
    "    data = f.read()\n",
    "    return data\n",
    "\n",
    "def get_url_data_with_retries(url, n):\n",
    "    url_data = None\n",
    "    for i in range(0,n):\n",
    "        try:\n",
    "            url_data = get_url_data(url)\n",
    "        except urllib2.HTTPError as e:\n",
    "            print \"sleeping for 30 seconds because of httperror\",e\n",
    "            time.sleep(30)\n",
    "        except Exception as e:\n",
    "            return None\n",
    "        if url_data is not None:\n",
    "            return url_data\n",
    "    return None"
   ]
  },
  {
   "cell_type": "code",
   "execution_count": 6,
   "metadata": {
    "collapsed": false
   },
   "outputs": [],
   "source": [
    "return_data = get_url_data_with_retries(\"https://www.google.com/search?q=head+of+sales+tune&oq=head+of+sales+tune&aqs=chrome..69i57j0l4.3327j0j7&sourceid=chrome&es_sm=91&ie=UTF-8#q=head+of+sales+tune+linkedin\", 1)"
   ]
  },
  {
   "cell_type": "code",
   "execution_count": 7,
   "metadata": {
    "collapsed": true
   },
   "outputs": [],
   "source": [
    "from bs4 import BeautifulSoup"
   ]
  },
  {
   "cell_type": "code",
   "execution_count": 8,
   "metadata": {
    "collapsed": true
   },
   "outputs": [],
   "source": [
    "soup = BeautifulSoup(return_data, 'html.parser')"
   ]
  },
  {
   "cell_type": "code",
   "execution_count": 12,
   "metadata": {
    "collapsed": false
   },
   "outputs": [],
   "source": [
    "texts = soup.findAll(text=True)\n"
   ]
  },
  {
   "cell_type": "code",
   "execution_count": null,
   "metadata": {
    "collapsed": true
   },
   "outputs": [],
   "source": []
  }
 ],
 "metadata": {
  "kernelspec": {
   "display_name": "Python 2",
   "language": "python",
   "name": "python2"
  },
  "language_info": {
   "codemirror_mode": {
    "name": "ipython",
    "version": 2
   },
   "file_extension": ".py",
   "mimetype": "text/x-python",
   "name": "python",
   "nbconvert_exporter": "python",
   "pygments_lexer": "ipython2",
   "version": "2.7.6"
  }
 },
 "nbformat": 4,
 "nbformat_minor": 0
}
