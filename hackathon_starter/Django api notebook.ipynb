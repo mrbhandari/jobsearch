{
 "cells": [
  {
   "cell_type": "code",
   "execution_count": 5,
   "metadata": {
    "collapsed": false
   },
   "outputs": [
    {
     "name": "stdout",
     "output_type": "stream",
     "text": [
      "The Product Manager's Survival Guide: Everything You Need to Know to Succeed as a Product Manager\n",
      "Steven Haines\n",
      "http://www.amazon.com/The-Product-Managers-Survival-Guide/dp/007180546X%3FSubscriptionId%3DAKIAJWVNFRPWFFRAWFZA%26tag%3Drandguav-20%26linkCode%3Dxm2%26camp%3D2025%26creative%3D165953%26creativeASIN%3D007180546X\n",
      "$13.10\n",
      "http://ecx.images-amazon.com/images/I/517rPD4L%2BYL.jpg\n",
      "<div class=\"panel panel-primary\">\n",
      "    <div class=\"panel-heading\">\n",
      "        <h3 class=\"panel-title\">\n",
      "            Product Management Required Reading\n",
      "        </h3>\n",
      "    </div>\n",
      "    <div class=\"panel-body\" id=\"reading_skills\">\n",
      "        \n",
      "        <a target=\"blank\" href=\"http://www.amazon.com/The-Product-Managers-Survival-Guide/dp/007180546X%3FSubscriptionId%3DAKIAJWVNFRPWFFRAWFZA%26tag%3Drandguav-20%26linkCode%3Dxm2%26camp%3D2025%26creative%3D165953%26creativeASIN%3D007180546X\"><img class=\"img-thumbnail\" alt=\"\" class=\"bookImage\" src=\"http://ecx.images-amazon.com/images/I/517rPD4L%2BYL.jpg\"\" title=\"\" width=\"127\"></a>\n",
      "        <!--</div>-->\n",
      "        \n",
      "        <a target=\"blank\" href=\"http://www.amazon.com/Agile-Product-Management-Scrum-Addison-Wesley/dp/0321605780%3FSubscriptionId%3DAKIAJWVNFRPWFFRAWFZA%26tag%3Drandguav-20%26linkCode%3Dxm2%26camp%3D2025%26creative%3D165953%26creativeASIN%3D0321605780\"><img class=\"img-thumbnail\" alt=\"\" class=\"bookImage\" src=\"http://ecx.images-amazon.com/images/I/51IG8pfF7RL.jpg\"\" title=\"\" width=\"127\"></a>\n",
      "        <!--</div>-->\n",
      "        \n",
      "        <a target=\"blank\" href=\"http://www.amazon.com/New-Products-Management-Merle-Crawford/dp/007802904X%3FSubscriptionId%3DAKIAJWVNFRPWFFRAWFZA%26tag%3Drandguav-20%26linkCode%3Dxm2%26camp%3D2025%26creative%3D165953%26creativeASIN%3D007802904X\"><img class=\"img-thumbnail\" alt=\"\" class=\"bookImage\" src=\"http://ecx.images-amazon.com/images/I/41CvHDPsmjL.jpg\"\" title=\"\" width=\"127\"></a>\n",
      "        <!--</div>-->\n",
      "        \n",
      "        <a target=\"blank\" href=\"http://www.amazon.com/Decode-Conquer-Answers-Management-Interviews/dp/0615930417%3FSubscriptionId%3DAKIAJWVNFRPWFFRAWFZA%26tag%3Drandguav-20%26linkCode%3Dxm2%26camp%3D2025%26creative%3D165953%26creativeASIN%3D0615930417\"><img class=\"img-thumbnail\" alt=\"\" class=\"bookImage\" src=\"http://ecx.images-amazon.com/images/I/415MEAb9KdL.jpg\"\" title=\"\" width=\"127\"></a>\n",
      "        <!--</div>-->\n",
      "        \n",
      "        <a target=\"blank\" href=\"http://www.amazon.com/New-Products-Management-Merle-Crawford/dp/0073404802%3FSubscriptionId%3DAKIAJWVNFRPWFFRAWFZA%26tag%3Drandguav-20%26linkCode%3Dxm2%26camp%3D2025%26creative%3D165953%26creativeASIN%3D0073404802\"><img class=\"img-thumbnail\" alt=\"\" class=\"bookImage\" src=\"http://ecx.images-amazon.com/images/I/51b4gN4Y-YL.jpg\"\" title=\"\" width=\"127\"></a>\n",
      "        <!--</div>-->\n",
      "        \n",
      "        \n",
      "        \n",
      "        \n",
      "    </div>\n",
      "</div>\n"
     ]
    }
   ],
   "source": [
    "import json\n",
    "import urllib2\n",
    "from django.template import Template, Context, loader\n",
    "\n",
    "from urllib2 import URLError\n",
    "\n",
    "skill = 'product%20management'\n",
    "skill_unquote =  urllib2.unquote(skill)\n",
    "request_url = 'https://redhoop.com/amazon/' + skill\n",
    "\n",
    "try:\n",
    "    data = json.load(urllib2.urlopen(request_url))\n",
    "    print data[0]['name']\n",
    "    print data[0]['author']\n",
    "    print data[0]['url']\n",
    "    print data[0]['price']\n",
    "    print data[0]['image']\n",
    "    \n",
    "    t = loader.get_template('api/amazon_reading_api.html')\n",
    "    \n",
    "    context = Context({\"response\": data, \"skill\": skill_unquote})\n",
    "    print t.render(context)\n",
    "    \n",
    "except URLError, e:\n",
    "\n",
    "    print 'Failed. Got an error code:', e"
   ]
  },
  {
   "cell_type": "code",
   "execution_count": 39,
   "metadata": {
    "collapsed": false
   },
   "outputs": [],
   "source": [
    "## See if monster can help\n",
    "import urllib2\n",
    "import urllib\n",
    "from bs4 import BeautifulSoup\n",
    "url_base = \"http://jobs.monster.com/search/?q=\""
   ]
  },
  {
   "cell_type": "code",
   "execution_count": 86,
   "metadata": {
    "collapsed": false
   },
   "outputs": [
    {
     "name": "stdout",
     "output_type": "stream",
     "text": [
      "Product\n",
      "Product-Engagement\n",
      "Product-Engagement-Manager\n",
      "http://jobs.monster.com/search/?q=Product-Engagement-Manager\n"
     ]
    }
   ],
   "source": [
    "i = \"Product Engagement Manager\"\n",
    "encodelist = []\n",
    "slug = ''\n",
    "for x in i.translate(None, string.punctuation).strip().strip(\",\").split(\" \"):\n",
    "    encodelist.append(urllib.quote_plus(x))\n",
    "    slug = '-'.join(encodelist)\n",
    "    print slug\n",
    "\n",
    "url = url_base + slug\n",
    "print url"
   ]
  },
  {
   "cell_type": "code",
   "execution_count": 87,
   "metadata": {
    "collapsed": true
   },
   "outputs": [],
   "source": [
    "import hashlib\n",
    "import time\n",
    "def get_url_data(url):\n",
    "    opener = urllib2.build_opener()\n",
    "    opener.addheaders = [('User-agent', 'Googlebot'), ('Cookie', 'bcookie=\"v=2&a4dbb96f-4c7b-4d2a-88b2-32cc9abdf6d4\"')]\n",
    "    f = opener.open(url)\n",
    "    data = f.read()\n",
    "    return data\n",
    "\n",
    "def get_url_data_with_retries(url, n):\n",
    "    url_data = None\n",
    "    for i in range(0,n):\n",
    "        try:\n",
    "            url_data = get_url_data(url)\n",
    "        except urllib2.HTTPError as e:\n",
    "            print \"sleeping for 30 seconds because of httperror\",e\n",
    "            time.sleep(30)\n",
    "        except Exception as e:\n",
    "            return None\n",
    "        if url_data is not None:\n",
    "            return url_data\n",
    "    return None"
   ]
  },
  {
   "cell_type": "code",
   "execution_count": 88,
   "metadata": {
    "collapsed": false
   },
   "outputs": [],
   "source": [
    "output = get_url_data_with_retries(url, 3)"
   ]
  },
  {
   "cell_type": "code",
   "execution_count": 89,
   "metadata": {
    "collapsed": false
   },
   "outputs": [],
   "source": [
    "soup = BeautifulSoup(output)"
   ]
  },
  {
   "cell_type": "code",
   "execution_count": 90,
   "metadata": {
    "collapsed": false
   },
   "outputs": [
    {
     "name": "stdout",
     "output_type": "stream",
     "text": [
      "[u'Strategic Planning', u'Business Strategy', u'Risk', u'Risk Management', u'Financial Services', u'Talent Management', u'Business Skills', u'Exceeded Sales Goal', u'Loss Prevention', u'Consumer Branding']\n"
     ]
    }
   ],
   "source": [
    "ss = soup.find(\"li\", {\"id\": \"backlinkingwidgetSkill\"}).find_all(\"li\")\n",
    "m_related_skills = []\n",
    "for i in ss:\n",
    "    m_related_skills.append(i.find(\"a\").get_text())\n",
    "    \n",
    "m_related_skills.remove(\"Show More\")\n",
    "m_related_skills.remove(\"show less\")\n",
    "print m_related_skills"
   ]
  },
  {
   "cell_type": "code",
   "execution_count": 96,
   "metadata": {
    "collapsed": false
   },
   "outputs": [
    {
     "name": "stdout",
     "output_type": "stream",
     "text": [
      "[u'Product', u'Marketing', u'Manager,', u'Commerce']\n",
      "[u'Product Marketing Manager Commerce']\n"
     ]
    }
   ],
   "source": [
    "job_title = u'Product Marketing Manager, Commerce'\n",
    "remove_punctuation_map = dict((ord(char), None) for char in string.punctuation)\n",
    "print job_title.strip().split(\" \")\n",
    "word_list = job_title.translate(remove_punctuation_map)\n",
    "print word_list"
   ]
  },
  {
   "cell_type": "code",
   "execution_count": null,
   "metadata": {
    "collapsed": true
   },
   "outputs": [],
   "source": []
  }
 ],
 "metadata": {
  "kernelspec": {
   "display_name": "Django Shell-Plus",
   "language": "python",
   "name": "django_extensions"
  },
  "language_info": {
   "codemirror_mode": {
    "name": "ipython",
    "version": 2
   },
   "file_extension": ".py",
   "mimetype": "text/x-python",
   "name": "python",
   "nbconvert_exporter": "python",
   "pygments_lexer": "ipython2",
   "version": "2.7.6"
  }
 },
 "nbformat": 4,
 "nbformat_minor": 0
}
